{
 "cells": [
  {
   "cell_type": "code",
   "execution_count": 1,
   "metadata": {
    "_cell_guid": "b1076dfc-b9ad-4769-8c92-a6c4dae69d19",
    "_uuid": "8f2839f25d086af736a60e9eeb907d3b93b6e0e5"
   },
   "outputs": [
    {
     "name": "stdout",
     "output_type": "stream",
     "text": [
      "/kaggle/input/covid19-in-india/StatewiseTestingDetails.csv\n",
      "/kaggle/input/covid19-in-india/covid_19_india.csv\n",
      "/kaggle/input/covid19-in-india/HospitalBedsIndia.csv\n",
      "/kaggle/input/covid19-in-india/IndividualDetails.csv\n",
      "/kaggle/input/covid19-in-india/AgeGroupDetails.csv\n",
      "/kaggle/input/covid19-in-india/ICMRTestingLabs.csv\n",
      "/kaggle/input/covid19-in-india/population_india_census2011.csv\n"
     ]
    }
   ],
   "source": [
    "import numpy as np \n",
    "import pandas as pd \n",
    "import re\n",
    "import warnings\n",
    "\n",
    "warnings.filterwarnings('ignore')\n",
    "\n",
    "import os\n",
    "for dirname, _, filenames in os.walk('/kaggle/input'):\n",
    "    for filename in filenames:\n",
    "        print(os.path.join(dirname, filename))"
   ]
  },
  {
   "cell_type": "code",
   "execution_count": 2,
   "metadata": {
    "_cell_guid": "79c7e3d0-c299-4dcb-8224-4455121ee9b0",
    "_uuid": "d629ff2d2480ee46fbb7e2d37f6b5fab8052498a"
   },
   "outputs": [],
   "source": [
    "population_df = pd.read_csv(\"/kaggle/input/covid19-in-india/population_india_census2011.csv\", index_col=0) \n",
    "statewise_testing_df = pd.read_csv(\"/kaggle/input/covid19-in-india/StatewiseTestingDetails.csv\", index_col=0)"
   ]
  },
  {
   "cell_type": "code",
   "execution_count": 3,
   "metadata": {},
   "outputs": [
    {
     "data": {
      "text/html": [
       "<div>\n",
       "<style scoped>\n",
       "    .dataframe tbody tr th:only-of-type {\n",
       "        vertical-align: middle;\n",
       "    }\n",
       "\n",
       "    .dataframe tbody tr th {\n",
       "        vertical-align: top;\n",
       "    }\n",
       "\n",
       "    .dataframe thead th {\n",
       "        text-align: right;\n",
       "    }\n",
       "</style>\n",
       "<table border=\"1\" class=\"dataframe\">\n",
       "  <thead>\n",
       "    <tr style=\"text-align: right;\">\n",
       "      <th></th>\n",
       "      <th>State / Union Territory</th>\n",
       "      <th>Population</th>\n",
       "      <th>Rural population</th>\n",
       "      <th>Urban population</th>\n",
       "      <th>Area</th>\n",
       "      <th>Density</th>\n",
       "      <th>Gender Ratio</th>\n",
       "    </tr>\n",
       "    <tr>\n",
       "      <th>Sno</th>\n",
       "      <th></th>\n",
       "      <th></th>\n",
       "      <th></th>\n",
       "      <th></th>\n",
       "      <th></th>\n",
       "      <th></th>\n",
       "      <th></th>\n",
       "    </tr>\n",
       "  </thead>\n",
       "  <tbody>\n",
       "    <tr>\n",
       "      <th>1</th>\n",
       "      <td>Uttar Pradesh</td>\n",
       "      <td>199812341</td>\n",
       "      <td>155317278</td>\n",
       "      <td>44495063</td>\n",
       "      <td>240,928 km2 (93,023 sq mi)</td>\n",
       "      <td>828/km2 (2,140/sq mi)</td>\n",
       "      <td>912</td>\n",
       "    </tr>\n",
       "    <tr>\n",
       "      <th>2</th>\n",
       "      <td>Maharashtra</td>\n",
       "      <td>112374333</td>\n",
       "      <td>61556074</td>\n",
       "      <td>50818259</td>\n",
       "      <td>307,713 km2 (118,809 sq mi)</td>\n",
       "      <td>365/km2 (950/sq mi)</td>\n",
       "      <td>929</td>\n",
       "    </tr>\n",
       "    <tr>\n",
       "      <th>3</th>\n",
       "      <td>Bihar</td>\n",
       "      <td>104099452</td>\n",
       "      <td>92341436</td>\n",
       "      <td>11758016</td>\n",
       "      <td>94,163 km2 (36,357 sq mi)</td>\n",
       "      <td>1,102/km2 (2,850/sq mi)</td>\n",
       "      <td>918</td>\n",
       "    </tr>\n",
       "    <tr>\n",
       "      <th>4</th>\n",
       "      <td>West Bengal</td>\n",
       "      <td>91276115</td>\n",
       "      <td>62183113</td>\n",
       "      <td>29093002</td>\n",
       "      <td>88,752 km2 (34,267 sq mi)</td>\n",
       "      <td>1,029/km2 (2,670/sq mi)</td>\n",
       "      <td>953</td>\n",
       "    </tr>\n",
       "    <tr>\n",
       "      <th>5</th>\n",
       "      <td>Madhya Pradesh</td>\n",
       "      <td>72626809</td>\n",
       "      <td>52557404</td>\n",
       "      <td>20069405</td>\n",
       "      <td>308,245 km2 (119,014 sq mi)</td>\n",
       "      <td>236/km2 (610/sq mi)</td>\n",
       "      <td>931</td>\n",
       "    </tr>\n",
       "  </tbody>\n",
       "</table>\n",
       "</div>"
      ],
      "text/plain": [
       "    State / Union Territory  Population  Rural population  Urban population  \\\n",
       "Sno                                                                           \n",
       "1             Uttar Pradesh   199812341         155317278          44495063   \n",
       "2               Maharashtra   112374333          61556074          50818259   \n",
       "3                     Bihar   104099452          92341436          11758016   \n",
       "4               West Bengal    91276115          62183113          29093002   \n",
       "5            Madhya Pradesh    72626809          52557404          20069405   \n",
       "\n",
       "                            Area                  Density  Gender Ratio  \n",
       "Sno                                                                      \n",
       "1     240,928 km2 (93,023 sq mi)    828/km2 (2,140/sq mi)           912  \n",
       "2    307,713 km2 (118,809 sq mi)      365/km2 (950/sq mi)           929  \n",
       "3      94,163 km2 (36,357 sq mi)  1,102/km2 (2,850/sq mi)           918  \n",
       "4      88,752 km2 (34,267 sq mi)  1,029/km2 (2,670/sq mi)           953  \n",
       "5    308,245 km2 (119,014 sq mi)      236/km2 (610/sq mi)           931  "
      ]
     },
     "execution_count": 3,
     "metadata": {},
     "output_type": "execute_result"
    }
   ],
   "source": [
    "population_df.head()"
   ]
  },
  {
   "cell_type": "code",
   "execution_count": 4,
   "metadata": {},
   "outputs": [
    {
     "data": {
      "text/html": [
       "<div>\n",
       "<style scoped>\n",
       "    .dataframe tbody tr th:only-of-type {\n",
       "        vertical-align: middle;\n",
       "    }\n",
       "\n",
       "    .dataframe tbody tr th {\n",
       "        vertical-align: top;\n",
       "    }\n",
       "\n",
       "    .dataframe thead th {\n",
       "        text-align: right;\n",
       "    }\n",
       "</style>\n",
       "<table border=\"1\" class=\"dataframe\">\n",
       "  <thead>\n",
       "    <tr style=\"text-align: right;\">\n",
       "      <th></th>\n",
       "      <th>State</th>\n",
       "      <th>TotalSamples</th>\n",
       "      <th>Negative</th>\n",
       "      <th>Positive</th>\n",
       "    </tr>\n",
       "    <tr>\n",
       "      <th>Date</th>\n",
       "      <th></th>\n",
       "      <th></th>\n",
       "      <th></th>\n",
       "      <th></th>\n",
       "    </tr>\n",
       "  </thead>\n",
       "  <tbody>\n",
       "    <tr>\n",
       "      <th>2020-04-17</th>\n",
       "      <td>Andaman and Nicobar Islands</td>\n",
       "      <td>1403.0</td>\n",
       "      <td>1210.0</td>\n",
       "      <td>12.0</td>\n",
       "    </tr>\n",
       "    <tr>\n",
       "      <th>2020-04-24</th>\n",
       "      <td>Andaman and Nicobar Islands</td>\n",
       "      <td>2679.0</td>\n",
       "      <td>NaN</td>\n",
       "      <td>27.0</td>\n",
       "    </tr>\n",
       "    <tr>\n",
       "      <th>2020-04-27</th>\n",
       "      <td>Andaman and Nicobar Islands</td>\n",
       "      <td>2848.0</td>\n",
       "      <td>NaN</td>\n",
       "      <td>33.0</td>\n",
       "    </tr>\n",
       "    <tr>\n",
       "      <th>2020-05-01</th>\n",
       "      <td>Andaman and Nicobar Islands</td>\n",
       "      <td>3754.0</td>\n",
       "      <td>NaN</td>\n",
       "      <td>33.0</td>\n",
       "    </tr>\n",
       "    <tr>\n",
       "      <th>2020-05-16</th>\n",
       "      <td>Andaman and Nicobar Islands</td>\n",
       "      <td>6677.0</td>\n",
       "      <td>NaN</td>\n",
       "      <td>33.0</td>\n",
       "    </tr>\n",
       "  </tbody>\n",
       "</table>\n",
       "</div>"
      ],
      "text/plain": [
       "                                  State  TotalSamples  Negative  Positive\n",
       "Date                                                                     \n",
       "2020-04-17  Andaman and Nicobar Islands        1403.0    1210.0      12.0\n",
       "2020-04-24  Andaman and Nicobar Islands        2679.0       NaN      27.0\n",
       "2020-04-27  Andaman and Nicobar Islands        2848.0       NaN      33.0\n",
       "2020-05-01  Andaman and Nicobar Islands        3754.0       NaN      33.0\n",
       "2020-05-16  Andaman and Nicobar Islands        6677.0       NaN      33.0"
      ]
     },
     "execution_count": 4,
     "metadata": {},
     "output_type": "execute_result"
    }
   ],
   "source": [
    "statewise_testing_df.head()"
   ]
  },
  {
   "cell_type": "code",
   "execution_count": 5,
   "metadata": {},
   "outputs": [
    {
     "data": {
      "text/plain": [
       "(Timestamp('2020-04-01 00:00:00'), Timestamp('2020-06-04 00:00:00'))"
      ]
     },
     "execution_count": 5,
     "metadata": {},
     "output_type": "execute_result"
    }
   ],
   "source": [
    "statewise_testing_df.reset_index(inplace=True)\n",
    "\n",
    "statewise_testing_df['Date'] = pd.to_datetime(statewise_testing_df['Date'], format=\"%Y-%m-%d\")\n",
    "\n",
    "statewise_testing_df['Date'].min(), statewise_testing_df['Date'].max()"
   ]
  },
  {
   "cell_type": "code",
   "execution_count": 6,
   "metadata": {},
   "outputs": [],
   "source": [
    "population_df = population_df[['State / Union Territory','Density']]\n",
    "statewise_testing_df = statewise_testing_df[['Date','TotalSamples','State','Positive']]"
   ]
  },
  {
   "cell_type": "code",
   "execution_count": 7,
   "metadata": {},
   "outputs": [
    {
     "name": "stdout",
     "output_type": "stream",
     "text": [
      "36\n"
     ]
    }
   ],
   "source": [
    "print(population_df['State / Union Territory'].nunique())\n",
    "pop_states = set(population_df['State / Union Territory'].unique())"
   ]
  },
  {
   "cell_type": "code",
   "execution_count": 8,
   "metadata": {},
   "outputs": [
    {
     "name": "stdout",
     "output_type": "stream",
     "text": [
      "35\n"
     ]
    }
   ],
   "source": [
    "print(statewise_testing_df['State'].nunique())\n",
    "statewise_testing_states = set(statewise_testing_df['State'].unique())"
   ]
  },
  {
   "cell_type": "code",
   "execution_count": 9,
   "metadata": {},
   "outputs": [
    {
     "data": {
      "text/plain": [
       "{'Lakshadweep', 'Telengana'}"
      ]
     },
     "execution_count": 9,
     "metadata": {},
     "output_type": "execute_result"
    }
   ],
   "source": [
    "pop_states - statewise_testing_states"
   ]
  },
  {
   "cell_type": "code",
   "execution_count": 10,
   "metadata": {},
   "outputs": [
    {
     "data": {
      "text/plain": [
       "{'Telangana'}"
      ]
     },
     "execution_count": 10,
     "metadata": {},
     "output_type": "execute_result"
    }
   ],
   "source": [
    "statewise_testing_states - pop_states"
   ]
  },
  {
   "cell_type": "code",
   "execution_count": 11,
   "metadata": {},
   "outputs": [
    {
     "data": {
      "text/html": [
       "<div>\n",
       "<style scoped>\n",
       "    .dataframe tbody tr th:only-of-type {\n",
       "        vertical-align: middle;\n",
       "    }\n",
       "\n",
       "    .dataframe tbody tr th {\n",
       "        vertical-align: top;\n",
       "    }\n",
       "\n",
       "    .dataframe thead th {\n",
       "        text-align: right;\n",
       "    }\n",
       "</style>\n",
       "<table border=\"1\" class=\"dataframe\">\n",
       "  <thead>\n",
       "    <tr style=\"text-align: right;\">\n",
       "      <th></th>\n",
       "      <th>State / Union Territory</th>\n",
       "      <th>Density</th>\n",
       "    </tr>\n",
       "    <tr>\n",
       "      <th>Sno</th>\n",
       "      <th></th>\n",
       "      <th></th>\n",
       "    </tr>\n",
       "  </thead>\n",
       "  <tbody>\n",
       "    <tr>\n",
       "      <th>12</th>\n",
       "      <td>Telengana</td>\n",
       "      <td>312/km2 (810/sq mi)</td>\n",
       "    </tr>\n",
       "  </tbody>\n",
       "</table>\n",
       "</div>"
      ],
      "text/plain": [
       "    State / Union Territory              Density\n",
       "Sno                                             \n",
       "12                Telengana  312/km2 (810/sq mi)"
      ]
     },
     "execution_count": 11,
     "metadata": {},
     "output_type": "execute_result"
    }
   ],
   "source": [
    "population_df.loc[population_df['State / Union Territory'].str.contains('ngana')]"
   ]
  },
  {
   "cell_type": "code",
   "execution_count": 12,
   "metadata": {},
   "outputs": [],
   "source": [
    "population_df.loc[population_df['State / Union Territory'].str.contains('ngana'),'State / Union Territory'] = \"Telangana\""
   ]
  },
  {
   "cell_type": "markdown",
   "execution_count": null,
   "metadata": {},
   "source": [
    "### Joining statewise testing details with population information"
   ]
  },
  {
   "cell_type": "code",
   "execution_count": 13,
   "metadata": {},
   "outputs": [],
   "source": [
    "statewise_features = statewise_testing_df.reset_index().merge(population_df, \\\n",
    "                                    how='inner', \\\n",
    "                                   left_on='State', \\\n",
    "                                   right_on='State / Union Territory')\n",
    "statewise_features = statewise_features.drop([\"State / Union Territory\",'index'], axis=1)"
   ]
  },
  {
   "cell_type": "code",
   "execution_count": 14,
   "metadata": {},
   "outputs": [
    {
     "data": {
      "text/html": [
       "<div>\n",
       "<style scoped>\n",
       "    .dataframe tbody tr th:only-of-type {\n",
       "        vertical-align: middle;\n",
       "    }\n",
       "\n",
       "    .dataframe tbody tr th {\n",
       "        vertical-align: top;\n",
       "    }\n",
       "\n",
       "    .dataframe thead th {\n",
       "        text-align: right;\n",
       "    }\n",
       "</style>\n",
       "<table border=\"1\" class=\"dataframe\">\n",
       "  <thead>\n",
       "    <tr style=\"text-align: right;\">\n",
       "      <th></th>\n",
       "      <th>Date</th>\n",
       "      <th>TotalSamples</th>\n",
       "      <th>State</th>\n",
       "      <th>Positive</th>\n",
       "      <th>Density</th>\n",
       "    </tr>\n",
       "  </thead>\n",
       "  <tbody>\n",
       "    <tr>\n",
       "      <th>1663</th>\n",
       "      <td>2020-04-01</td>\n",
       "      <td>659.0</td>\n",
       "      <td>West Bengal</td>\n",
       "      <td>37.0</td>\n",
       "      <td>1,029/km2 (2,670/sq mi)</td>\n",
       "    </tr>\n",
       "    <tr>\n",
       "      <th>1664</th>\n",
       "      <td>2020-04-04</td>\n",
       "      <td>1042.0</td>\n",
       "      <td>West Bengal</td>\n",
       "      <td>NaN</td>\n",
       "      <td>1,029/km2 (2,670/sq mi)</td>\n",
       "    </tr>\n",
       "    <tr>\n",
       "      <th>1665</th>\n",
       "      <td>2020-04-06</td>\n",
       "      <td>1301.0</td>\n",
       "      <td>West Bengal</td>\n",
       "      <td>NaN</td>\n",
       "      <td>1,029/km2 (2,670/sq mi)</td>\n",
       "    </tr>\n",
       "    <tr>\n",
       "      <th>1666</th>\n",
       "      <td>2020-04-07</td>\n",
       "      <td>1487.0</td>\n",
       "      <td>West Bengal</td>\n",
       "      <td>NaN</td>\n",
       "      <td>1,029/km2 (2,670/sq mi)</td>\n",
       "    </tr>\n",
       "    <tr>\n",
       "      <th>1667</th>\n",
       "      <td>2020-04-09</td>\n",
       "      <td>1889.0</td>\n",
       "      <td>West Bengal</td>\n",
       "      <td>NaN</td>\n",
       "      <td>1,029/km2 (2,670/sq mi)</td>\n",
       "    </tr>\n",
       "  </tbody>\n",
       "</table>\n",
       "</div>"
      ],
      "text/plain": [
       "           Date  TotalSamples        State  Positive                  Density\n",
       "1663 2020-04-01         659.0  West Bengal      37.0  1,029/km2 (2,670/sq mi)\n",
       "1664 2020-04-04        1042.0  West Bengal       NaN  1,029/km2 (2,670/sq mi)\n",
       "1665 2020-04-06        1301.0  West Bengal       NaN  1,029/km2 (2,670/sq mi)\n",
       "1666 2020-04-07        1487.0  West Bengal       NaN  1,029/km2 (2,670/sq mi)\n",
       "1667 2020-04-09        1889.0  West Bengal       NaN  1,029/km2 (2,670/sq mi)"
      ]
     },
     "execution_count": 14,
     "metadata": {},
     "output_type": "execute_result"
    }
   ],
   "source": [
    "statewise_features[statewise_features['State']=='West Bengal'].head()"
   ]
  },
  {
   "cell_type": "code",
   "execution_count": 15,
   "metadata": {},
   "outputs": [],
   "source": [
    "statewise_features['Density'] = statewise_features['Density'].apply(lambda density: re.sub(\",\", \"\",density))\n",
    "statewise_features['pop_density'] = statewise_features['Density'].str.extract(\"(\\d+)\").astype(float)\n",
    "statewise_features.drop(\"Density\", axis=1, inplace=True)"
   ]
  },
  {
   "cell_type": "code",
   "execution_count": 16,
   "metadata": {},
   "outputs": [
    {
     "data": {
      "text/html": [
       "<div>\n",
       "<style scoped>\n",
       "    .dataframe tbody tr th:only-of-type {\n",
       "        vertical-align: middle;\n",
       "    }\n",
       "\n",
       "    .dataframe tbody tr th {\n",
       "        vertical-align: top;\n",
       "    }\n",
       "\n",
       "    .dataframe thead th {\n",
       "        text-align: right;\n",
       "    }\n",
       "</style>\n",
       "<table border=\"1\" class=\"dataframe\">\n",
       "  <thead>\n",
       "    <tr style=\"text-align: right;\">\n",
       "      <th></th>\n",
       "      <th>Date</th>\n",
       "      <th>TotalSamples</th>\n",
       "      <th>State</th>\n",
       "      <th>Positive</th>\n",
       "      <th>pop_density</th>\n",
       "    </tr>\n",
       "  </thead>\n",
       "  <tbody>\n",
       "    <tr>\n",
       "      <th>0</th>\n",
       "      <td>2020-04-17</td>\n",
       "      <td>1403.0</td>\n",
       "      <td>Andaman and Nicobar Islands</td>\n",
       "      <td>12.0</td>\n",
       "      <td>46.0</td>\n",
       "    </tr>\n",
       "    <tr>\n",
       "      <th>1</th>\n",
       "      <td>2020-04-24</td>\n",
       "      <td>2679.0</td>\n",
       "      <td>Andaman and Nicobar Islands</td>\n",
       "      <td>27.0</td>\n",
       "      <td>46.0</td>\n",
       "    </tr>\n",
       "    <tr>\n",
       "      <th>2</th>\n",
       "      <td>2020-04-27</td>\n",
       "      <td>2848.0</td>\n",
       "      <td>Andaman and Nicobar Islands</td>\n",
       "      <td>33.0</td>\n",
       "      <td>46.0</td>\n",
       "    </tr>\n",
       "    <tr>\n",
       "      <th>3</th>\n",
       "      <td>2020-05-01</td>\n",
       "      <td>3754.0</td>\n",
       "      <td>Andaman and Nicobar Islands</td>\n",
       "      <td>33.0</td>\n",
       "      <td>46.0</td>\n",
       "    </tr>\n",
       "    <tr>\n",
       "      <th>4</th>\n",
       "      <td>2020-05-16</td>\n",
       "      <td>6677.0</td>\n",
       "      <td>Andaman and Nicobar Islands</td>\n",
       "      <td>33.0</td>\n",
       "      <td>46.0</td>\n",
       "    </tr>\n",
       "  </tbody>\n",
       "</table>\n",
       "</div>"
      ],
      "text/plain": [
       "        Date  TotalSamples                        State  Positive  pop_density\n",
       "0 2020-04-17        1403.0  Andaman and Nicobar Islands      12.0         46.0\n",
       "1 2020-04-24        2679.0  Andaman and Nicobar Islands      27.0         46.0\n",
       "2 2020-04-27        2848.0  Andaman and Nicobar Islands      33.0         46.0\n",
       "3 2020-05-01        3754.0  Andaman and Nicobar Islands      33.0         46.0\n",
       "4 2020-05-16        6677.0  Andaman and Nicobar Islands      33.0         46.0"
      ]
     },
     "execution_count": 16,
     "metadata": {},
     "output_type": "execute_result"
    }
   ],
   "source": [
    "statewise_features.head()"
   ]
  },
  {
   "cell_type": "code",
   "execution_count": 17,
   "metadata": {},
   "outputs": [
    {
     "name": "stdout",
     "output_type": "stream",
     "text": [
      "<class 'pandas.core.frame.DataFrame'>\n",
      "Int64Index: 1724 entries, 0 to 1723\n",
      "Data columns (total 5 columns):\n",
      " #   Column        Non-Null Count  Dtype         \n",
      "---  ------        --------------  -----         \n",
      " 0   Date          1724 non-null   datetime64[ns]\n",
      " 1   TotalSamples  1724 non-null   float64       \n",
      " 2   State         1724 non-null   object        \n",
      " 3   Positive      1716 non-null   float64       \n",
      " 4   pop_density   1724 non-null   float64       \n",
      "dtypes: datetime64[ns](1), float64(3), object(1)\n",
      "memory usage: 80.8+ KB\n"
     ]
    }
   ],
   "source": [
    "statewise_features.info()"
   ]
  },
  {
   "cell_type": "code",
   "execution_count": 18,
   "metadata": {},
   "outputs": [],
   "source": [
    "statewise_daily_df = None\n",
    "for state in statewise_features['State'].unique():\n",
    "    covid_data_state = statewise_features[statewise_features['State']==state]\n",
    "    covid_data_state['previous_day'] = covid_data_state['Positive'].shift(1)\n",
    "    covid_data_state['new_cases'] = covid_data_state['Positive'] - covid_data_state['previous_day']\n",
    "\n",
    "    covid_data_state['previous_day'] = covid_data_state['TotalSamples'].shift(1)\n",
    "    covid_data_state['samples_tested'] = covid_data_state['TotalSamples'] - covid_data_state['previous_day']\n",
    "\n",
    "    covid_data_state = covid_data_state.drop('previous_day',axis=1)\n",
    "    statewise_daily_df = pd.concat([statewise_daily_df, covid_data_state], axis=0)\n",
    "    \n",
    "statewise_daily_df.set_index('Date', inplace=True)\n"
   ]
  },
  {
   "cell_type": "code",
   "execution_count": 19,
   "metadata": {},
   "outputs": [
    {
     "data": {
      "text/html": [
       "<div>\n",
       "<style scoped>\n",
       "    .dataframe tbody tr th:only-of-type {\n",
       "        vertical-align: middle;\n",
       "    }\n",
       "\n",
       "    .dataframe tbody tr th {\n",
       "        vertical-align: top;\n",
       "    }\n",
       "\n",
       "    .dataframe thead th {\n",
       "        text-align: right;\n",
       "    }\n",
       "</style>\n",
       "<table border=\"1\" class=\"dataframe\">\n",
       "  <thead>\n",
       "    <tr style=\"text-align: right;\">\n",
       "      <th></th>\n",
       "      <th>TotalSamples</th>\n",
       "      <th>State</th>\n",
       "      <th>Positive</th>\n",
       "      <th>pop_density</th>\n",
       "      <th>new_cases</th>\n",
       "      <th>samples_tested</th>\n",
       "    </tr>\n",
       "    <tr>\n",
       "      <th>Date</th>\n",
       "      <th></th>\n",
       "      <th></th>\n",
       "      <th></th>\n",
       "      <th></th>\n",
       "      <th></th>\n",
       "      <th></th>\n",
       "    </tr>\n",
       "  </thead>\n",
       "  <tbody>\n",
       "    <tr>\n",
       "      <th>2020-04-17</th>\n",
       "      <td>1403.0</td>\n",
       "      <td>Andaman and Nicobar Islands</td>\n",
       "      <td>12.0</td>\n",
       "      <td>46.0</td>\n",
       "      <td>NaN</td>\n",
       "      <td>NaN</td>\n",
       "    </tr>\n",
       "    <tr>\n",
       "      <th>2020-04-24</th>\n",
       "      <td>2679.0</td>\n",
       "      <td>Andaman and Nicobar Islands</td>\n",
       "      <td>27.0</td>\n",
       "      <td>46.0</td>\n",
       "      <td>15.0</td>\n",
       "      <td>1276.0</td>\n",
       "    </tr>\n",
       "    <tr>\n",
       "      <th>2020-04-27</th>\n",
       "      <td>2848.0</td>\n",
       "      <td>Andaman and Nicobar Islands</td>\n",
       "      <td>33.0</td>\n",
       "      <td>46.0</td>\n",
       "      <td>6.0</td>\n",
       "      <td>169.0</td>\n",
       "    </tr>\n",
       "    <tr>\n",
       "      <th>2020-05-01</th>\n",
       "      <td>3754.0</td>\n",
       "      <td>Andaman and Nicobar Islands</td>\n",
       "      <td>33.0</td>\n",
       "      <td>46.0</td>\n",
       "      <td>0.0</td>\n",
       "      <td>906.0</td>\n",
       "    </tr>\n",
       "    <tr>\n",
       "      <th>2020-05-16</th>\n",
       "      <td>6677.0</td>\n",
       "      <td>Andaman and Nicobar Islands</td>\n",
       "      <td>33.0</td>\n",
       "      <td>46.0</td>\n",
       "      <td>0.0</td>\n",
       "      <td>2923.0</td>\n",
       "    </tr>\n",
       "  </tbody>\n",
       "</table>\n",
       "</div>"
      ],
      "text/plain": [
       "            TotalSamples                        State  Positive  pop_density  \\\n",
       "Date                                                                           \n",
       "2020-04-17        1403.0  Andaman and Nicobar Islands      12.0         46.0   \n",
       "2020-04-24        2679.0  Andaman and Nicobar Islands      27.0         46.0   \n",
       "2020-04-27        2848.0  Andaman and Nicobar Islands      33.0         46.0   \n",
       "2020-05-01        3754.0  Andaman and Nicobar Islands      33.0         46.0   \n",
       "2020-05-16        6677.0  Andaman and Nicobar Islands      33.0         46.0   \n",
       "\n",
       "            new_cases  samples_tested  \n",
       "Date                                   \n",
       "2020-04-17        NaN             NaN  \n",
       "2020-04-24       15.0          1276.0  \n",
       "2020-04-27        6.0           169.0  \n",
       "2020-05-01        0.0           906.0  \n",
       "2020-05-16        0.0          2923.0  "
      ]
     },
     "execution_count": 19,
     "metadata": {},
     "output_type": "execute_result"
    }
   ],
   "source": [
    "statewise_daily_df.head()"
   ]
  },
  {
   "cell_type": "code",
   "execution_count": 20,
   "metadata": {},
   "outputs": [
    {
     "data": {
      "text/html": [
       "<div>\n",
       "<style scoped>\n",
       "    .dataframe tbody tr th:only-of-type {\n",
       "        vertical-align: middle;\n",
       "    }\n",
       "\n",
       "    .dataframe tbody tr th {\n",
       "        vertical-align: top;\n",
       "    }\n",
       "\n",
       "    .dataframe thead th {\n",
       "        text-align: right;\n",
       "    }\n",
       "</style>\n",
       "<table border=\"1\" class=\"dataframe\">\n",
       "  <thead>\n",
       "    <tr style=\"text-align: right;\">\n",
       "      <th></th>\n",
       "      <th>pop_density</th>\n",
       "      <th>new_cases</th>\n",
       "      <th>samples_tested</th>\n",
       "    </tr>\n",
       "  </thead>\n",
       "  <tbody>\n",
       "    <tr>\n",
       "      <th>pop_density</th>\n",
       "      <td>1.000000</td>\n",
       "      <td>0.085343</td>\n",
       "      <td>-0.042294</td>\n",
       "    </tr>\n",
       "    <tr>\n",
       "      <th>new_cases</th>\n",
       "      <td>0.085343</td>\n",
       "      <td>1.000000</td>\n",
       "      <td>0.571229</td>\n",
       "    </tr>\n",
       "    <tr>\n",
       "      <th>samples_tested</th>\n",
       "      <td>-0.042294</td>\n",
       "      <td>0.571229</td>\n",
       "      <td>1.000000</td>\n",
       "    </tr>\n",
       "  </tbody>\n",
       "</table>\n",
       "</div>"
      ],
      "text/plain": [
       "                pop_density  new_cases  samples_tested\n",
       "pop_density        1.000000   0.085343       -0.042294\n",
       "new_cases          0.085343   1.000000        0.571229\n",
       "samples_tested    -0.042294   0.571229        1.000000"
      ]
     },
     "execution_count": 20,
     "metadata": {},
     "output_type": "execute_result"
    }
   ],
   "source": [
    "statewise_daily_df.drop(['TotalSamples','Positive'], axis=1).corr()"
   ]
  },
  {
   "cell_type": "code",
   "execution_count": 21,
   "metadata": {},
   "outputs": [],
   "source": [
    "statewise_daily_df.dropna(inplace=True)\n",
    "statewise_daily_df.drop(['TotalSamples','Positive'], axis=1).to_csv(\"./statewise_features.csv\")"
   ]
  },
  {
   "cell_type": "code",
   "execution_count": null,
   "metadata": {},
   "outputs": [],
   "source": []
  }
 ],
 "metadata": {
  "kernelspec": {
   "display_name": "Python 3",
   "language": "python",
   "name": "python3"
  },
  "language_info": {
   "codemirror_mode": {
    "name": "ipython",
    "version": 3
   },
   "file_extension": ".py",
   "mimetype": "text/x-python",
   "name": "python",
   "nbconvert_exporter": "python",
   "pygments_lexer": "ipython3",
   "version": "3.7.6"
  }
 },
 "nbformat": 4,
 "nbformat_minor": 4
}
